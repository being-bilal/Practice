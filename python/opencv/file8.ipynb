{
 "cells": [
  {
   "cell_type": "markdown",
   "id": "559fa484",
   "metadata": {},
   "source": [
    "### Template Matching in OpenCV"
   ]
  },
  {
   "cell_type": "code",
   "execution_count": 1,
   "id": "59d48d4d",
   "metadata": {},
   "outputs": [],
   "source": [
    "import cv2\n",
    "import numpy as np \n",
    "import matplotlib.pyplot as plt"
   ]
  },
  {
   "cell_type": "code",
   "execution_count": 2,
   "id": "aa257e3c",
   "metadata": {},
   "outputs": [],
   "source": [
    "# Template Matching is the process of searching a tamplate image in a larger image using convolution\n",
    "# the template image slides over the larger image and seaches for the section of pixel having the same value as the template "
   ]
  },
  {
   "cell_type": "code",
   "execution_count": 3,
   "id": "a08f0998",
   "metadata": {},
   "outputs": [
    {
     "name": "stderr",
     "output_type": "stream",
     "text": [
      "qt.qpa.plugin: Could not find the Qt platform plugin \"wayland\" in \"/home/bilal/.local/lib/python3.11/site-packages/cv2/qt/plugins\"\n"
     ]
    }
   ],
   "source": [
    "# Loading the image and the template\n",
    "img = cv2.imread(\"assets/test_image.png\")\n",
    "gray_img = cv2.cvtColor(img, cv2.COLOR_BGR2GRAY)\n",
    "cv2.imshow(\"Main image\", gray_img)\n",
    "cv2.waitKey(0)\n",
    "cv2.destroyAllWindows()\n",
    "\n",
    "template = cv2.imread(\"assets/template.png\", 0)\n",
    "cv2.imshow(\"template\", template)\n",
    "cv2.waitKey(0)\n",
    "cv2.destroyAllWindows()"
   ]
  },
  {
   "cell_type": "code",
   "execution_count": 4,
   "id": "c594189c",
   "metadata": {},
   "outputs": [
    {
     "name": "stdout",
     "output_type": "stream",
     "text": [
      "[[-0.5121966  -0.51883155 -0.46002293 ... -0.27619177 -0.27369592\n",
      "  -0.27019548]\n",
      " [-0.42797872 -0.43030733 -0.3594361  ... -0.0957116  -0.01052474\n",
      "   0.08016504]\n",
      " [-0.4280098  -0.42965817 -0.35778126 ... -0.01729563  0.03767506\n",
      "   0.07042539]\n",
      " ...\n",
      " [-0.4307064  -0.43242744 -0.36103532 ... -0.08715662 -0.07990339\n",
      "  -0.11341085]\n",
      " [-0.4307064  -0.4324274  -0.3610353  ... -0.11601815 -0.0709522\n",
      "  -0.06038665]\n",
      " [-0.4307064  -0.43242744 -0.36103526 ... -0.13082641 -0.06779183\n",
      "  -0.02240928]]\n"
     ]
    }
   ],
   "source": [
    "h, w = template.shape # height and width of the template \n",
    "result = cv2.matchTemplate(gray_img, template, cv2.TM_CCOEFF_NORMED) # (originalImage, template, method)\n",
    "print(result) # cv2.TM_CCOEFF_NORMED returns the value between 0 and -1 for each pixel depending on how it matches with template "
   ]
  },
  {
   "cell_type": "code",
   "execution_count": 5,
   "id": "26518c34",
   "metadata": {},
   "outputs": [],
   "source": [
    "threshold = 0.81\n",
    "loc = np.where(result >= threshold) # Gives x and y coordinates lists of all the points which have greater templateMatch value than the treshold \n",
    "y, x = loc\n",
    "coordinates = zip(x, y) # coordinates of the points\n",
    "for pt in coordinates:\n",
    "    cv2.rectangle(img, pt, (pt[0]+w, pt[1]+h), (0,0, 255), 2) # creating a box on the detected templates in the original image\n",
    "    "
   ]
  },
  {
   "cell_type": "code",
   "execution_count": 6,
   "id": "9c5e1102",
   "metadata": {},
   "outputs": [],
   "source": [
    "cv2.imshow(\"Result\", img)\n",
    "cv2.waitKey(0)\n",
    "cv2.destroyAllWindows()"
   ]
  },
  {
   "cell_type": "code",
   "execution_count": null,
   "id": "bb55e554",
   "metadata": {},
   "outputs": [],
   "source": []
  }
 ],
 "metadata": {
  "kernelspec": {
   "display_name": "Python 3",
   "language": "python",
   "name": "python3"
  },
  "language_info": {
   "codemirror_mode": {
    "name": "ipython",
    "version": 3
   },
   "file_extension": ".py",
   "mimetype": "text/x-python",
   "name": "python",
   "nbconvert_exporter": "python",
   "pygments_lexer": "ipython3",
   "version": "3.11.2"
  }
 },
 "nbformat": 4,
 "nbformat_minor": 5
}
