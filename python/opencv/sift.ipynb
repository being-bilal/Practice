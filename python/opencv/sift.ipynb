{
 "cells": [
  {
   "cell_type": "markdown",
   "id": "092adcd2",
   "metadata": {},
   "source": [
    "### SIFT (Scale Invariant Feature Transform)\n",
    "harris corners detector is rotation invarient i.e it is still able to detect the corners even if the image is rotated at an angle but it is not scale invarient so if the image is scaled up the corners become blurry and Harris corner detector isnt able to detect them. \n",
    "SIFT is an algorithm that is used to detect the featture in the image, it is scale and rotation invarient, thus it is used to detect the invariant features of the image. SIFT detects keypoints of the image (Keypoints in an image are specific, distinctive points that are used to describe and match patterns between images like corners, edges and blobs For example if we trying to recognize the same tree in two different photos — one taken in the morning and another in the evening. The tree might look slightly different in size, brightness, or angle, thus to identify the tree in two different images features of the images are used which would be same for both. In Other words,keypoints are interest points that are invariant to scale, lumination and rotation).\n",
    "\n",
    "\n",
    "Descriptor of the keypoint: It is the description of the area around a keypoint, In SIFT: \n",
    "\n",
    "* For each keypoint, SIFT looks at a 16×16 window around it.\n",
    "\n",
    "* It divides this into 4×4 = 16 cells.\n",
    "\n",
    "* In each cell, it calculates the dominant gradient direction.\n",
    "\n",
    "* For each cell, it creates a histogram of gradient directions (8 directions).\n",
    "\n",
    "* So, you get 16 cells × 8 bins = 128 numbers.\n",
    "\n",
    "* These 128 numbers form the descriptor vector that uniquely represents what the image looks like around the keypoint.\n"
   ]
  },
  {
   "cell_type": "code",
   "execution_count": 1,
   "id": "75b915ea",
   "metadata": {},
   "outputs": [],
   "source": [
    "import cv2 as cv\n",
    "import numpy as np\n",
    "import matplotlib.pyplot as plt"
   ]
  },
  {
   "cell_type": "code",
   "execution_count": 2,
   "id": "05d7b401",
   "metadata": {},
   "outputs": [
    {
     "name": "stderr",
     "output_type": "stream",
     "text": [
      "qt.qpa.plugin: Could not find the Qt platform plugin \"wayland\" in \"/home/bilal/.local/lib/python3.11/site-packages/cv2/qt/plugins\"\n"
     ]
    }
   ],
   "source": [
    "# Loading and GrayScaling the image \n",
    "img = cv.imread(\"Images/pic.jpg\")\n",
    "gray = cv.cvtColor(img, cv.COLOR_BGR2GRAY)\n",
    "cv.imshow(\"Orginial Image\", gray)\n",
    "cv.waitKey(0)\n",
    "cv.destroyAllWindows()"
   ]
  },
  {
   "cell_type": "code",
   "execution_count": 9,
   "id": "e292e72d",
   "metadata": {},
   "outputs": [
    {
     "data": {
      "text/plain": [
       "array([[[213, 213, 213],\n",
       "        [213, 213, 213],\n",
       "        [213, 213, 213],\n",
       "        ...,\n",
       "        [232, 232, 232],\n",
       "        [219, 219, 219],\n",
       "        [207, 207, 207]],\n",
       "\n",
       "       [[213, 213, 213],\n",
       "        [213, 213, 213],\n",
       "        [213, 213, 213],\n",
       "        ...,\n",
       "        [234, 234, 234],\n",
       "        [223, 223, 223],\n",
       "        [212, 212, 212]],\n",
       "\n",
       "       [[213, 213, 213],\n",
       "        [213, 213, 213],\n",
       "        [213, 213, 213],\n",
       "        ...,\n",
       "        [236, 236, 236],\n",
       "        [227, 227, 227],\n",
       "        [218, 218, 218]],\n",
       "\n",
       "       ...,\n",
       "\n",
       "       [[233, 233, 233],\n",
       "        [151, 184, 221],\n",
       "        [ 36, 133, 242],\n",
       "        ...,\n",
       "        [112, 112, 112],\n",
       "        [112, 112, 112],\n",
       "        [111, 111, 111]],\n",
       "\n",
       "       [[240, 240, 240],\n",
       "        [228, 228, 228],\n",
       "        [114, 167, 226],\n",
       "        ...,\n",
       "        [110, 110, 110],\n",
       "        [111, 111, 111],\n",
       "        [111, 111, 111]],\n",
       "\n",
       "       [[233, 233, 233],\n",
       "        [235, 235, 235],\n",
       "        [229, 229, 229],\n",
       "        ...,\n",
       "        [109, 109, 109],\n",
       "        [110, 110, 110],\n",
       "        [110, 110, 110]]], dtype=uint8)"
      ]
     },
     "execution_count": 9,
     "metadata": {},
     "output_type": "execute_result"
    }
   ],
   "source": [
    "# Creating SIFT object\n",
    "sift = cv.SIFT_create()\n",
    "kp = sift.detect(gray, None) # None defines if the mask is used or not\n",
    "# Marking the keypoints on the image\n",
    "cv.drawKeypoints(gray, kp, img, flags=cv.DRAW_MATCHES_FLAGS_DRAW_RICH_KEYPOINTS) # flags are optional"
   ]
  },
  {
   "cell_type": "code",
   "execution_count": 11,
   "id": "e3631a34",
   "metadata": {},
   "outputs": [],
   "source": [
    "cv.imshow(\"Final Image\", img)\n",
    "cv.waitKey(0)\n",
    "cv.destroyAllWindows()"
   ]
  },
  {
   "cell_type": "markdown",
   "id": "681c721c",
   "metadata": {},
   "source": [
    "The size of the keypoints (the radius of the circles) is determined by the scale at which the feature was detected. the SIFT algorithm applies multiple layers of Gaussian blur as a result a keypoint found in a more blurred image corresponds to a larger structure in the original image and bigger circle. This is the reason Small details (like corners) produce small keypoints. where as larger blobs of pattern create bigger circles."
   ]
  },
  {
   "cell_type": "code",
   "execution_count": null,
   "id": "28c68772",
   "metadata": {},
   "outputs": [
    {
     "name": "stdout",
     "output_type": "stream",
     "text": [
      "128\n"
     ]
    }
   ],
   "source": [
    "# detecting the keypoints and calculating the discriptors of Keypoints at the same time\n",
    "kp, ds = sift.detectAndCompute(gray, None)\n",
    "print(len(ds[0])) # descriptor vector has 128 numeric values (16*8)"
   ]
  },
  {
   "cell_type": "code",
   "execution_count": null,
   "id": "6276bdb2",
   "metadata": {},
   "outputs": [],
   "source": []
  }
 ],
 "metadata": {
  "kernelspec": {
   "display_name": "Python 3",
   "language": "python",
   "name": "python3"
  },
  "language_info": {
   "codemirror_mode": {
    "name": "ipython",
    "version": 3
   },
   "file_extension": ".py",
   "mimetype": "text/x-python",
   "name": "python",
   "nbconvert_exporter": "python",
   "pygments_lexer": "ipython3",
   "version": "3.11.2"
  }
 },
 "nbformat": 4,
 "nbformat_minor": 5
}
