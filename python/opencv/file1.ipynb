{
 "cells": [
  {
   "cell_type": "code",
   "execution_count": 2,
   "id": "8de67fac",
   "metadata": {},
   "outputs": [],
   "source": [
    "import cv2\n",
    "import matplotlib.pyplot as plt\n",
    "import numpy as np"
   ]
  },
  {
   "cell_type": "code",
   "execution_count": 3,
   "id": "571ef883",
   "metadata": {},
   "outputs": [
    {
     "name": "stderr",
     "output_type": "stream",
     "text": [
      "qt.qpa.plugin: Could not find the Qt platform plugin \"wayland\" in \"/home/bilal/.local/lib/python3.11/site-packages/cv2/qt/plugins\"\n"
     ]
    }
   ],
   "source": [
    "# Reading an image using OpenCV\n",
    "filename = \"assets/photo.jpg\" \n",
    "img = cv2.imread(filename, 0)\n",
    "# 0 --- grayscale \n",
    "# 1 --- color \n",
    "# -1 -- unchanged\n",
    "cv2.imshow('image', img)\n",
    "cv2.waitKey(0)\n",
    "cv2.destroyAllWindows()"
   ]
  },
  {
   "cell_type": "code",
   "execution_count": 4,
   "id": "321c3f47",
   "metadata": {},
   "outputs": [
    {
     "data": {
      "text/plain": [
       "True"
      ]
     },
     "execution_count": 4,
     "metadata": {},
     "output_type": "execute_result"
    }
   ],
   "source": [
    "# saving the image \n",
    "cv2.imwrite('assets/gray_image.jpg', img)"
   ]
  },
  {
   "cell_type": "code",
   "execution_count": 17,
   "id": "823e7579",
   "metadata": {},
   "outputs": [
    {
     "name": "stdout",
     "output_type": "stream",
     "text": [
      "Video ended or cannot be read\n"
     ]
    }
   ],
   "source": [
    "# Capturing the video using webcam\n",
    "cam = cv2.VideoCapture('assets/video.mp4') # use the 0 instead of filepath to capture from webcam \n",
    "\n",
    "# saving the captured video \n",
    "fourcc = cv2.VideoWriter_fourcc(*'XVID') # It determines which codec to use to encode or decode video data.\n",
    "output = cv2.VideoWriter('assets/output.avi', fourcc, 20.0, (640, 480)) # filename, Four Character Code, framerate, framesize\n",
    "\n",
    "while True:\n",
    "    ret, frame = cam.read()\n",
    "    if not ret:\n",
    "        print(\"Video ended or cannot be read\") # exit the loop if no frame is captured\n",
    "        break\n",
    "    \n",
    "    gray_frame = cv2.cvtColor(frame, cv2.COLOR_BGR2GRAY)\n",
    "    cv2.imshow('frame', frame)\n",
    "    cv2.imshow('gray frame', gray_frame)\n",
    "    output.write(gray_frame) # writes the frames to the output.avi\n",
    "    if cv2.waitKey(1) == ord('q'):\n",
    "        break\n",
    "\n",
    "output.release()\n",
    "cam.release()\n",
    "cv2.destroyAllWindows()"
   ]
  },
  {
   "cell_type": "code",
   "execution_count": null,
   "id": "3f6e4f16",
   "metadata": {},
   "outputs": [],
   "source": []
  }
 ],
 "metadata": {
  "kernelspec": {
   "display_name": "Python 3",
   "language": "python",
   "name": "python3"
  },
  "language_info": {
   "codemirror_mode": {
    "name": "ipython",
    "version": 3
   },
   "file_extension": ".py",
   "mimetype": "text/x-python",
   "name": "python",
   "nbconvert_exporter": "python",
   "pygments_lexer": "ipython3",
   "version": "3.11.2"
  }
 },
 "nbformat": 4,
 "nbformat_minor": 5
}
