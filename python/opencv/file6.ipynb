{
 "cells": [
  {
   "cell_type": "markdown",
   "id": "35cbe159",
   "metadata": {},
   "source": [
    "### Image and Video Processing with OpenCV"
   ]
  },
  {
   "cell_type": "code",
   "execution_count": 2,
   "id": "18ee6056",
   "metadata": {},
   "outputs": [],
   "source": [
    "import cv2\n",
    "import numpy as np\n",
    "import matplotlib.pyplot as plt"
   ]
  },
  {
   "cell_type": "code",
   "execution_count": null,
   "id": "a43cc1a2",
   "metadata": {},
   "outputs": [
    {
     "name": "stderr",
     "output_type": "stream",
     "text": [
      "qt.qpa.plugin: Could not find the Qt platform plugin \"wayland\" in \"/home/bilal/.local/lib/python3.11/site-packages/cv2/qt/plugins\"\n"
     ]
    }
   ],
   "source": [
    "# Only displaying the orange bloacks of the Rubik's cube\n",
    "# HSV = Hue(color), Saturation(intensity), value(brightness)\n",
    "path = 'assets/rubiks.mp4'\n",
    "cap = cv2.VideoCapture(path)\n",
    "while True:\n",
    "    ret, frame = cap.read()\n",
    "    if not ret:\n",
    "        print(\"Video ended or cannot be read.\")\n",
    "        break\n",
    "    \n",
    "    frame_HSV = cv2.cvtColor(frame, cv2.COLOR_BGR2HSV) # converting the video from BGR channel to HSV channel\n",
    "    light_orange = np.array([5, 90, 20]) # lower bound of the orange color \n",
    "    dark_orange = np.array([10, 255, 255]) # upper bound of the orange color\n",
    "    \n",
    "    # .inRange() function turns the pixel between the given color range to white and the rest to black\n",
    "    mask = cv2.inRange(frame_HSV, light_orange, dark_orange) # creating a mask for the orange color\n",
    "    combined_image = cv2.bitwise_and(frame, frame, mask=mask) # applying the mask to the original frame\n",
    "    \n",
    "\n",
    "    \n",
    "    cv2.imshow('Frame', combined_image)\n",
    "    if cv2.waitKey(10) & 0xFF == ord('q'):\n",
    "        break   \n",
    "    \n",
    "cap.release()\n",
    "cv2.destroyAllWindows()"
   ]
  },
  {
   "cell_type": "code",
   "execution_count": null,
   "id": "54456fbf",
   "metadata": {},
   "outputs": [],
   "source": []
  }
 ],
 "metadata": {
  "kernelspec": {
   "display_name": "Python 3",
   "language": "python",
   "name": "python3"
  },
  "language_info": {
   "codemirror_mode": {
    "name": "ipython",
    "version": 3
   },
   "file_extension": ".py",
   "mimetype": "text/x-python",
   "name": "python",
   "nbconvert_exporter": "python",
   "pygments_lexer": "ipython3",
   "version": "3.11.2"
  }
 },
 "nbformat": 4,
 "nbformat_minor": 5
}
