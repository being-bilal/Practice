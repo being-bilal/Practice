{
 "cells": [
  {
   "cell_type": "markdown",
   "id": "6ca18971",
   "metadata": {},
   "source": [
    "### Image Operations with OpenCV"
   ]
  },
  {
   "cell_type": "code",
   "execution_count": 1,
   "id": "ff9a32ff",
   "metadata": {},
   "outputs": [],
   "source": [
    "import cv2\n",
    "import numpy as np \n",
    "import matplotlib.pyplot as plt"
   ]
  },
  {
   "cell_type": "code",
   "execution_count": 2,
   "id": "5786ef50",
   "metadata": {},
   "outputs": [
    {
     "name": "stdout",
     "output_type": "stream",
     "text": [
      "[169 185 192]\n"
     ]
    },
    {
     "name": "stderr",
     "output_type": "stream",
     "text": [
      "qt.qpa.plugin: Could not find the Qt platform plugin \"wayland\" in \"/home/bilal/.local/lib/python3.11/site-packages/cv2/qt/plugins\"\n"
     ]
    }
   ],
   "source": [
    "# Acessing a single pixel of the image \n",
    "img = cv2.imread(\"assets/photo.jpg\")\n",
    "height, width, channels = img.shape \n",
    "px = img[height // 2, width // 2]  # Accessing the pixel at the center\n",
    "print(px)\n",
    "# changing the pixel colorto black\n",
    "px = [0, 0, 0]\n",
    "cv2.imshow(\"Image\", img)\n",
    "cv2.waitKey(0)    \n",
    "cv2.destroyAllWindows()"
   ]
  },
  {
   "cell_type": "code",
   "execution_count": 3,
   "id": "8cab371e",
   "metadata": {},
   "outputs": [],
   "source": [
    "# Accessing the region of image (ROI)\n",
    "roi = img[20:450,  340:520] \n",
    "cv2.imshow(\"ROI Image\", roi)\n",
    "cv2.waitKey(2000)\n",
    "# changing the value of the roi\n",
    "img[height // 4:height // 2, width // 4:width // 2] = [255, 255, 255]  # Setting the ROI to black\n",
    "cv2.imshow(\"ROI Image\", img)\n",
    "cv2.waitKey(0)    \n",
    "cv2.destroyAllWindows() \n"
   ]
  },
  {
   "cell_type": "code",
   "execution_count": 4,
   "id": "68a8bf0c",
   "metadata": {},
   "outputs": [],
   "source": [
    "# Replacing a region of image \n",
    "img = cv2.imread(\"assets/photo.jpg\") \n",
    "roi = img[20:450, 340:520]  # Define the ROI\n",
    "img[0:430, 0:180] = roi  # Replace the top-left corner with the ROI\n",
    "cv2.imshow(\"Replaced Image\", img)\n",
    "cv2.waitKey(0)    \n",
    "cv2.destroyAllWindows()"
   ]
  }
 ],
 "metadata": {
  "kernelspec": {
   "display_name": "Python 3",
   "language": "python",
   "name": "python3"
  },
  "language_info": {
   "codemirror_mode": {
    "name": "ipython",
    "version": 3
   },
   "file_extension": ".py",
   "mimetype": "text/x-python",
   "name": "python",
   "nbconvert_exporter": "python",
   "pygments_lexer": "ipython3",
   "version": "3.11.2"
  }
 },
 "nbformat": 4,
 "nbformat_minor": 5
}
