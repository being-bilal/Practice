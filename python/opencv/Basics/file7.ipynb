{
 "cells": [
  {
   "cell_type": "markdown",
   "id": "36a0aef1",
   "metadata": {},
   "source": [
    "### Gradients and Edge detection using OpenCV"
   ]
  },
  {
   "cell_type": "code",
   "execution_count": 1,
   "id": "88f150ac",
   "metadata": {},
   "outputs": [
    {
     "ename": "ModuleNotFoundError",
     "evalue": "No module named 'cv2'",
     "output_type": "error",
     "traceback": [
      "\u001b[31m---------------------------------------------------------------------------\u001b[39m",
      "\u001b[31mModuleNotFoundError\u001b[39m                       Traceback (most recent call last)",
      "\u001b[36mCell\u001b[39m\u001b[36m \u001b[39m\u001b[32mIn[1]\u001b[39m\u001b[32m, line 1\u001b[39m\n\u001b[32m----> \u001b[39m\u001b[32m1\u001b[39m \u001b[38;5;28;01mimport\u001b[39;00m\u001b[38;5;250m \u001b[39m\u001b[34;01mcv2\u001b[39;00m \n\u001b[32m      2\u001b[39m \u001b[38;5;28;01mimport\u001b[39;00m\u001b[38;5;250m \u001b[39m\u001b[34;01mnumpy\u001b[39;00m\u001b[38;5;250m \u001b[39m\u001b[38;5;28;01mas\u001b[39;00m\u001b[38;5;250m \u001b[39m\u001b[34;01mnp\u001b[39;00m \n\u001b[32m      3\u001b[39m \u001b[38;5;28;01mimport\u001b[39;00m\u001b[38;5;250m \u001b[39m\u001b[34;01mmatplotlib\u001b[39;00m\u001b[34;01m.\u001b[39;00m\u001b[34;01mpyplot\u001b[39;00m\u001b[38;5;250m \u001b[39m\u001b[38;5;28;01mas\u001b[39;00m\u001b[38;5;250m \u001b[39m\u001b[34;01mplt\u001b[39;00m\n",
      "\u001b[31mModuleNotFoundError\u001b[39m: No module named 'cv2'"
     ]
    }
   ],
   "source": [
    "import cv2 \n",
    "import numpy as np \n",
    "import matplotlib.pyplot as plt"
   ]
  },
  {
   "cell_type": "code",
   "execution_count": null,
   "id": "5e8c0727",
   "metadata": {},
   "outputs": [
    {
     "name": "stderr",
     "output_type": "stream",
     "text": [
      "qt.qpa.plugin: Could not find the Qt platform plugin \"wayland\" in \"/home/bilal/.local/lib/python3.11/site-packages/cv2/qt/plugins\"\n"
     ]
    }
   ],
   "source": [
    "img = cv2.imread('assets/sudoku.png')\n",
    "img = cv2.cvtColor(img, cv2.COLOR_BGR2GRAY)\n",
    "cv2.imshow('Original Image', img)\n",
    "cv2.waitKey(0)\n",
    "cv2.destroyAllWindows()"
   ]
  },
  {
   "cell_type": "code",
   "execution_count": null,
   "id": "650be3a6",
   "metadata": {},
   "outputs": [],
   "source": [
    "# Gradients\n",
    "# it refers to change in the instensity of the image\n",
    "\n",
    "# sobel_x operator : it is used to find horizontal edges in the image\n",
    "sobel_x = cv2.Sobel(img, cv2.CV_32F, 1,0, ksize=5) # 1st argument is the image, 2nd is the depth of the image, 3rd and 4th are the order of the derivative in x and y direction, ksize is the size of the kernel\n",
    "cv2.imshow('Sobel X', sobel_x)\n",
    "cv2.waitKey(0)\n",
    "cv2.destroyAllWindows()"
   ]
  },
  {
   "cell_type": "code",
   "execution_count": null,
   "id": "76f5d2a4",
   "metadata": {},
   "outputs": [],
   "source": [
    "# sobel_y operator : it is used to find vertical edges in the image\n",
    "sobel_y = cv2.Sobel(img, cv2.CV_32F, 0,1, ksize=5) # 1st argument is the image, 2nd is the depth of the image, 3rd and 4th are the order of the derivative in x and y direction, ksize is the size of the kernel\n",
    "cv2.imshow('Sobel Y', sobel_y)\n",
    "cv2.waitKey(0)\n",
    "cv2.destroyAllWindows()"
   ]
  },
  {
   "cell_type": "code",
   "execution_count": null,
   "id": "31e365af",
   "metadata": {},
   "outputs": [],
   "source": [
    "# Laplacian operator : it is used to find edges in the image\n",
    "laplacian = cv2.Laplacian(img, cv2.CV_32F)\n",
    "cv2.imshow('laplacian', laplacian)\n",
    "cv2.waitKey(0)\n",
    "cv2.destroyAllWindows()"
   ]
  },
  {
   "cell_type": "code",
   "execution_count": null,
   "id": "86668ffa",
   "metadata": {},
   "outputs": [],
   "source": [
    "# Canny edge detection : it is a layered edge detection algorithm that uses two thresholds to classify edges\n",
    "# Canny edge uses sobel operator to find the gradient of the image then apply non-maximum suppression to thin the edges and then apply double thresholding to classify edges as strong, weak or non-edges\n",
    "\n",
    "img = cv2.imread('assets/sudoku.png')\n",
    "gray_img = cv2.cvtColor(img, cv2.COLOR_BGR2GRAY)\n",
    "blurred = cv2.GaussianBlur(gray_img, (5,5), 0)\n",
    "canny = cv2.Canny(blurred, 20, 120) # 1st argument is the image, 2nd and 3rd are the lower and upper thresholds\n",
    "# pixels with gradient values ablove the upper threshold is classidfied as the strong edge \n",
    "# pixels with gradient values below the lower threshold is classified as the non-edge and is dropped \n",
    "# pixels with gradient values between the two thresholds is classified as the weak edge and is connected to the strong edge\n",
    "\n",
    "cv2.imshow('Canny Edge Detection', canny)\n",
    "cv2.waitKey(0)\n",
    "cv2.destroyAllWindows()"
   ]
  },
  {
   "cell_type": "code",
   "execution_count": null,
   "id": "382c57cf",
   "metadata": {},
   "outputs": [],
   "source": []
  }
 ],
 "metadata": {
  "kernelspec": {
   "display_name": "base",
   "language": "python",
   "name": "python3"
  },
  "language_info": {
   "codemirror_mode": {
    "name": "ipython",
    "version": 3
   },
   "file_extension": ".py",
   "mimetype": "text/x-python",
   "name": "python",
   "nbconvert_exporter": "python",
   "pygments_lexer": "ipython3",
   "version": "3.13.5"
  }
 },
 "nbformat": 4,
 "nbformat_minor": 5
}
