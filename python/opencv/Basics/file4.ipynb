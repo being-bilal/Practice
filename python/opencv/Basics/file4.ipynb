{
 "cells": [
  {
   "cell_type": "markdown",
   "id": "6c185fb8",
   "metadata": {},
   "source": [
    "### Image Arithmetic with OpenCV"
   ]
  },
  {
   "cell_type": "code",
   "execution_count": 1,
   "id": "1f5083f8",
   "metadata": {},
   "outputs": [],
   "source": [
    "import cv2\n",
    "import numpy as np \n",
    "import matplotlib.pyplot as plt"
   ]
  },
  {
   "cell_type": "code",
   "execution_count": 2,
   "id": "739d6041",
   "metadata": {},
   "outputs": [
    {
     "name": "stderr",
     "output_type": "stream",
     "text": [
      "qt.qpa.plugin: Could not find the Qt platform plugin \"wayland\" in \"/home/bilal/.local/lib/python3.11/site-packages/cv2/qt/plugins\"\n"
     ]
    }
   ],
   "source": [
    "# loading images \n",
    "img1 = cv2.imread('assets/checkerboard1.png', 0)\n",
    "img2 = cv2.imread('assets/checkerboard2.png', 0)\n",
    "cv2.imshow('Image 1', img1)\n",
    "cv2.waitKey(0) \n",
    "cv2.destroyAllWindows()\n",
    "cv2.imshow('Image 2', img2)        \n",
    "cv2.waitKey(0) \n",
    "cv2.destroyAllWindows()\n",
    "    "
   ]
  },
  {
   "cell_type": "code",
   "execution_count": 3,
   "id": "440f2c22",
   "metadata": {},
   "outputs": [],
   "source": [
    "# adding two images\n",
    "new_image = img1 + img2 # adds the values of each pixel (pixel value can exceed 255)\n",
    "cv2.imshow('New Image', new_image)\n",
    "cv2.waitKey(0) \n",
    "cv2.destroyAllWindows()"
   ]
  },
  {
   "cell_type": "code",
   "execution_count": 4,
   "id": "2ff28075",
   "metadata": {},
   "outputs": [],
   "source": [
    "# adding two images using openCv\n",
    "new_image = cv2.add(img1, img2) # adds the values of each pixel (limits pixel value to 255)\n",
    "cv2.imshow('New Image', new_image)\n",
    "cv2.waitKey(0) \n",
    "cv2.destroyAllWindows()"
   ]
  },
  {
   "cell_type": "code",
   "execution_count": 5,
   "id": "91022a1f",
   "metadata": {},
   "outputs": [],
   "source": [
    "# Blending two images \n",
    "new_image = cv2.addWeighted(img1, 0.6, img2, 0.4, 5) # 0.6 and 0.4 are the weights for img1 and img2 respectively, gamma(5) is a scalar added to each sum\n",
    "# gamma is used to adjust the brightness of the resulting image\n",
    "cv2.imshow('Blended Image', new_image)\n",
    "cv2.waitKey(0) \n",
    "cv2.destroyAllWindows()"
   ]
  },
  {
   "cell_type": "markdown",
   "id": "5a04866f",
   "metadata": {},
   "source": [
    "Adding logo image to a checkerboard background using thresholding"
   ]
  },
  {
   "cell_type": "code",
   "execution_count": 6,
   "id": "c349826c",
   "metadata": {},
   "outputs": [],
   "source": [
    "# making a mask of the image\n",
    "img3 = cv2.imread(\"assets/logo.jpeg\", 1)\n",
    "cv2.imshow('Image 3', img3)\n",
    "cv2.waitKey(0) \n",
    "cv2.destroyAllWindows()"
   ]
  },
  {
   "cell_type": "code",
   "execution_count": 7,
   "id": "8922f3f7",
   "metadata": {},
   "outputs": [],
   "source": [
    "img3_togray = cv2.cvtColor(img3, cv2.COLOR_BGR2GRAY) # converting to gray scale\n",
    "ret, mask = cv2.threshold(img3_togray, 230, 255, cv2.THRESH_BINARY_INV) # thresholding the image to create a mask\n",
    "# ret is the threshold value, mask is the binary image where pixels above the threshold are set to 255 and below are set to 0 (and then inverted cuz we used THRESH_BINARY_INV)\n",
    "cv2.imshow('Mask', mask)\n",
    "cv2.waitKey(0) \n",
    "cv2.destroyAllWindows()"
   ]
  },
  {
   "cell_type": "code",
   "execution_count": 8,
   "id": "4e7f460f",
   "metadata": {},
   "outputs": [],
   "source": [
    "# Creating a mask inverse\n",
    "mask_inverse = cv2.bitwise_not(mask) # bitwise NOT inverts the image\n",
    "cv2.imshow('Mask Inverse', mask_inverse)\n",
    "cv2.waitKey(0) \n",
    "cv2.destroyAllWindows()"
   ]
  },
  {
   "cell_type": "code",
   "execution_count": 9,
   "id": "bc350d21",
   "metadata": {},
   "outputs": [],
   "source": [
    "img1 = cv2.imread('assets/checkerboard1.png', 1)\n",
    "height, width = img3.shape[:2] # getting the height and width of the image 3\n",
    "# creating a region of interest (ROI) in the image1 of size of image3\n",
    "roi = img1[0:height, 0:width] \n",
    "cv2.imshow('ROI', roi)\n",
    "cv2.waitKey(0) \n",
    "cv2.destroyAllWindows()"
   ]
  },
  {
   "cell_type": "code",
   "execution_count": 13,
   "id": "60134cc5",
   "metadata": {},
   "outputs": [],
   "source": [
    "# bitwise AND operation\n",
    "img_fg = cv2.bitwise_and(img3, img3, mask=mask) # keeps the pixels of the image where the mask is 255 (foreground)\n",
    "img_bg = cv2.bitwise_and(roi, roi, mask=mask_inverse) \n",
    "\n",
    "cv2.imshow('Foreground', img_fg)\n",
    "cv2.imshow('background', img_bg)\n",
    "cv2.waitKey(0) \n",
    "cv2.destroyAllWindows()"
   ]
  },
  {
   "cell_type": "code",
   "execution_count": 11,
   "id": "ae737d8a",
   "metadata": {},
   "outputs": [],
   "source": [
    "combined = cv2.add(img_fg, img_bg) # combining the foreground and background\n",
    "cv2.imshow('Combined Image', combined)\n",
    "cv2.waitKey(0) \n",
    "cv2.destroyAllWindows()"
   ]
  },
  {
   "cell_type": "code",
   "execution_count": 12,
   "id": "d153cba6",
   "metadata": {},
   "outputs": [],
   "source": [
    "# adding the logo to the checkerboard image\n",
    "img1[0:height, 0:width] = combined # replacing the region of interest in the image1 with the combined image\n",
    "cv2.imshow('Final Image', img1)\n",
    "cv2.waitKey(0) \n",
    "cv2.destroyAllWindows()"
   ]
  }
 ],
 "metadata": {
  "kernelspec": {
   "display_name": "Python 3",
   "language": "python",
   "name": "python3"
  },
  "language_info": {
   "codemirror_mode": {
    "name": "ipython",
    "version": 3
   },
   "file_extension": ".py",
   "mimetype": "text/x-python",
   "name": "python",
   "nbconvert_exporter": "python",
   "pygments_lexer": "ipython3",
   "version": "3.11.2"
  }
 },
 "nbformat": 4,
 "nbformat_minor": 5
}
