{
 "cells": [
  {
   "cell_type": "code",
   "execution_count": 12,
   "id": "3e89b09b",
   "metadata": {},
   "outputs": [],
   "source": [
    "import os\n",
    "import cv2\n",
    "import torch\n",
    "import requests\n",
    "import numpy as np\n",
    "from PIL import Image\n",
    "import matplotlib.pyplot as plt\n",
    "from transformers import AutoImageProcessor, AutoModelForKeypointMatching"
   ]
  },
  {
   "cell_type": "code",
   "execution_count": 21,
   "id": "611f27d4",
   "metadata": {},
   "outputs": [],
   "source": [
    "processor = AutoImageProcessor.from_pretrained(\"zju-community/efficientloftr\")\n",
    "model = AutoModelForKeypointMatching.from_pretrained(\"zju-community/efficientloftr\")"
   ]
  },
  {
   "cell_type": "code",
   "execution_count": 23,
   "id": "415afdf3",
   "metadata": {},
   "outputs": [],
   "source": [
    "def find_matches(image1_path, image2_path, score_threshold=0.99):\n",
    "    # --- Create output directory ---\n",
    "    os.makedirs(\"LoFTR_results\", exist_ok=True)\n",
    "    filename = os.path.basename(image1_path).split('.')[0] + \"_\" + os.path.basename(image2_path).split('.')[0]\n",
    "\n",
    "    # --- Load images ---\n",
    "    image1 = Image.open(image1_path).convert(\"RGB\")\n",
    "    image2 = Image.open(image2_path).convert(\"RGB\")\n",
    "    images = [image1, image2]\n",
    "    \n",
    "    # --- Preprocess and run model ---\n",
    "    inputs = processor(images=images, return_tensors=\"pt\")\n",
    "    outputs = model(**inputs)\n",
    "\n",
    "    # Format sizes as expected: List of [(H, W), (H, W)]\n",
    "    image_sizes = [(image.height, image.width) for image in images]\n",
    "    processed_outputs = processor.post_process_keypoint_matching(outputs, [image_sizes], threshold=score_threshold)\n",
    "\n",
    "    # --- Convert PIL to NumPy ---\n",
    "    img1 = np.array(image1)\n",
    "    img2 = np.array(image2)\n",
    "    h1, w1 = img1.shape[:2]\n",
    "    h2, w2 = img2.shape[:2]\n",
    "\n",
    "    # --- Create side-by-side canvas ---\n",
    "    out_img = np.zeros((max(h1, h2), w1 + w2, 3), dtype=np.uint8)\n",
    "    out_img[:h1, :w1] = img1\n",
    "    out_img[:h2, w1:] = img2\n",
    "\n",
    "    # --- Draw matches ---\n",
    "    match_count = 0\n",
    "    for kp0, kp1, score in zip(\n",
    "        processed_outputs[0][\"keypoints0\"],\n",
    "        processed_outputs[0][\"keypoints1\"],\n",
    "        processed_outputs[0][\"matching_scores\"]\n",
    "    ):\n",
    "        if score < score_threshold:\n",
    "            continue\n",
    "        pt1 = tuple(np.round(kp0.numpy()).astype(int))\n",
    "        pt2 = tuple(np.round(kp1.numpy()).astype(int) + np.array([w1, 0]))\n",
    "        color = tuple(np.random.randint(0, 255, size=3).tolist())\n",
    "        cv2.line(out_img, pt1, pt2, color, 1, cv2.LINE_AA)\n",
    "        cv2.circle(out_img, pt1, 2, color, -1, cv2.LINE_AA)\n",
    "        cv2.circle(out_img, pt2, 2, color, -1, cv2.LINE_AA)\n",
    "        match_count += 1\n",
    "\n",
    "    # --- Save image ---\n",
    "    save_path = os.path.join(\"LoFTR_results\", filename + \".png\")\n",
    "    cv2.imwrite(save_path, out_img[:, :, ::-1])\n",
    "    print(f\"[✓] Saved {match_count} high-confidence matches at: {save_path}\")"
   ]
  },
  {
   "cell_type": "code",
   "execution_count": null,
   "id": "4dd64c79",
   "metadata": {},
   "outputs": [],
   "source": [
    "\n",
    "# --- Path to directory ---\n",
    "image_dir = \"LoFTR_images\"\n",
    "\n",
    "# --- List and sort image filenames ---\n",
    "image_files = sorted([\n",
    "    f for f in os.listdir(image_dir)\n",
    "    if f.lower().endswith((\".jpg\", \".jpeg\", \".png\"))\n",
    "])\n",
    "\n",
    "# --- Loop through consecutive pairs ---\n",
    "for i in range(len(image_files) - 1):\n",
    "    img1_path = os.path.join(image_dir, image_files[i])\n",
    "    img2_path = os.path.join(image_dir, image_files[i + 1])\n",
    "    find_matches(img1_path, img2_path)\n"
   ]
  }
 ],
 "metadata": {
  "kernelspec": {
   "display_name": "base",
   "language": "python",
   "name": "python3"
  },
  "language_info": {
   "codemirror_mode": {
    "name": "ipython",
    "version": 3
   },
   "file_extension": ".py",
   "mimetype": "text/x-python",
   "name": "python",
   "nbconvert_exporter": "python",
   "pygments_lexer": "ipython3",
   "version": "3.13.5"
  }
 },
 "nbformat": 4,
 "nbformat_minor": 5
}
