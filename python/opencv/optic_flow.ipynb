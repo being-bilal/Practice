{
 "cells": [
  {
   "cell_type": "markdown",
   "id": "e2f9d0d7",
   "metadata": {},
   "source": [
    "### Optical Flow \n",
    "optical flow refers to the apparent motion of the object due to the relative motion of the object or the observer, it creats 2D vectors that determines the change in the position of the pixels from one frame to another, it uses the change in the intensity of the pixel to calculate the motion of the pixel, thus it assumes that the intensity of the pixel remain constant over a very short time interval as it moves across the image plane. \n",
    "\n",
    "f I(x,y,t) is the intensity of a pixel at coordinates (x,y) at time t, and this pixel moves to (x+dx,y+dy) at time t+dt, then:\n",
    "\n",
    "![My Image](Images/op.png)"
   ]
  },
  {
   "cell_type": "markdown",
   "id": "4769cd43",
   "metadata": {},
   "source": [
    "\n",
    "The given equation has two unknowns U and V, that can be determined by different methods. Optical flow algorithms can be broadly categorized into:\n",
    "* Sparse Optical Flow (These algorithm track the motion of the Previous_point like corners and edges only)\n",
    "* Dense Optical Flow (These algorithm track the motion of all the pixels in the image)\n",
    "\n",
    "### Lucas Kanade Method\n",
    "It is a sparse optical flow algorithm which assumes that the optical flow (u,v) is approximately constant within a small local neighborhood around the pixel under consideration. thus the value of U and V would be the same for a neighborhood of pixels, it first uses the She-Tomasi corner detection or GoodPrevious_pointToTrack to determine important Previous_point then take a 3×3 window (9 pixels) around a central pixel, then all 9 pixels in that window are assumed to have the same (u,v) velocity vector. Thus we can then calculate the value of U and V using 9 pixels."
   ]
  },
  {
   "cell_type": "code",
   "execution_count": 1,
   "id": "00e8de06",
   "metadata": {},
   "outputs": [],
   "source": [
    "import numpy as np\n",
    "import cv2 as cv"
   ]
  },
  {
   "cell_type": "code",
   "execution_count": 2,
   "id": "eba49119",
   "metadata": {},
   "outputs": [],
   "source": [
    "image_path = \"Images/recording.mp4\"\n",
    "cap = cv.VideoCapture(image_path)\n",
    "ret, old_frame = cap.read() # Taking the first frame of the image\n",
    "old_gray_frame = cv.cvtColor(old_frame, cv.COLOR_BGR2GRAY)"
   ]
  },
  {
   "cell_type": "code",
   "execution_count": 3,
   "id": "bdcdf034",
   "metadata": {},
   "outputs": [],
   "source": [
    "# Getting the Previous_point of the old frame (Both corners and Keypoints can be used as PreviousPoints in Optical Flow)\n",
    "Previous_point = cv.goodFeaturesToTrack(old_gray_frame, 500, 0.3, 10) \n",
    "orb = cv.ORB_create(200)\n",
    "kp1 = orb.detect(old_gray_frame, None)\n",
    "Previous_point = np.array([kp.pt for kp in kp1], dtype=np.float32).reshape(-1, 1, 2) # Turining Keypoints Object to points list\n",
    "# Creating mask for drawing optic flow vectors\n",
    "mask = np.zeros_like(old_frame)"
   ]
  },
  {
   "cell_type": "code",
   "execution_count": null,
   "id": "31e5bb90",
   "metadata": {},
   "outputs": [],
   "source": [
    "while True:\n",
    "    ret, frame = cap.read() \n",
    "    if not ret: \n",
    "        print(\"Frame not found\")\n",
    "        break \n",
    "    \n",
    "    gray_frame = cv.cvtColor(frame, cv.COLOR_BGR2GRAY)\n",
    "    \n",
    "    # Applying Lucas Kanade \n",
    "    nextPoints, status, error = cv.calcOpticalFlowPyrLK(old_gray_frame, gray_frame, Previous_point, None) # (old_frame, new_frame, old_points)\n",
    "    # status is set to 0 for the points with no flow found else its 1\n",
    "    \n",
    "    # Accessing old and new points whose flow is found \n",
    "    if nextPoints is not None:\n",
    "        good_new = nextPoints[status == 1]\n",
    "        good_old = Previous_point[status == 1]\n",
    "\n",
    "    # Drawing Flow lines\n",
    "    for i, (new, old) in enumerate(zip(good_new, good_old)):\n",
    "        a, b = new.ravel()\n",
    "        c, d = old.ravel()\n",
    "        mask = cv.line(mask, (int(a), int(b)), (int(c), int(d)), [0,255,0], 2)\n",
    "        frame = cv.circle(frame, (int(a), int(b)), 5, [0,255,0], -1)\n",
    "    \n",
    "    # Displaying the image    \n",
    "    img = cv.add(frame, mask)\n",
    "    cv.imshow('frame', img)\n",
    "    if cv.waitKey(30) & 0xFF == ord('q'):\n",
    "        cv.destroyAllWindows()\n",
    "        break\n",
    "    # Updating the oldframe\n",
    "    old_gray_frame = gray_frame.copy()\n",
    "    Previous_point = good_new.reshape(-1,1,2)\n"
   ]
  }
 ],
 "metadata": {
  "kernelspec": {
   "display_name": "Python 3",
   "language": "python",
   "name": "python3"
  },
  "language_info": {
   "codemirror_mode": {
    "name": "ipython",
    "version": 3
   },
   "file_extension": ".py",
   "mimetype": "text/x-python",
   "name": "python",
   "nbconvert_exporter": "python",
   "pygments_lexer": "ipython3",
   "version": "3.11.2"
  }
 },
 "nbformat": 4,
 "nbformat_minor": 5
}
