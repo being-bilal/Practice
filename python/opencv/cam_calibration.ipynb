{
 "cells": [
  {
   "cell_type": "markdown",
   "id": "0a7bcad1",
   "metadata": {},
   "source": [
    "### Camera Calibration\n",
    "camera calibration is the process of determing the intrinsic and extrinsic properties of the camera. When the image is formed on the image plane of real world objects are distorted as usually cameras are not perfect pinhole cameras as a result distortions are introduced in the image, without proper callibration camera makes incorrect assumptions about the real world environment that leads to :\n",
    "* Distorted Images: Straight lines in the real world might appear curved (e.g., barrel(straight lines appear to curve outward) or pincushion(straight lines appear to curve inward) distortion), especially near the edges of the image.\n",
    "\n",
    "\n",
    "* Incorrect measurement : Distances, sizes and angles are not properly measured due to distrotion\n",
    "\n",
    "\n",
    "* Incorrect Posse Estimation : determining the position and orientation of the camera becomes unrealible.\n",
    "\n",
    "The purpose of camera callibration is to determine the intrinsic and extrinsic properties of the camera "
   ]
  },
  {
   "cell_type": "markdown",
   "id": "5599a0a2",
   "metadata": {},
   "source": []
  }
 ],
 "metadata": {
  "language_info": {
   "name": "python"
  }
 },
 "nbformat": 4,
 "nbformat_minor": 5
}
