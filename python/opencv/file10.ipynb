{
 "cells": [
  {
   "cell_type": "markdown",
   "id": "d8b75ad9",
   "metadata": {},
   "source": [
    "### Corner Detection in OpenCV"
   ]
  },
  {
   "cell_type": "code",
   "execution_count": 1,
   "id": "c2cfc7af",
   "metadata": {},
   "outputs": [],
   "source": [
    "# Corners in an iimage are considered good features as they are easier to recognise compared\n",
    "# to a continues pattern or an edge that can be moved along and it would look about the same "
   ]
  },
  {
   "cell_type": "code",
   "execution_count": 2,
   "id": "a700977a",
   "metadata": {},
   "outputs": [],
   "source": [
    "import cv2\n",
    "import numpy as np\n",
    "import matplotlib.pyplot as plt"
   ]
  },
  {
   "cell_type": "code",
   "execution_count": 3,
   "id": "980c61db",
   "metadata": {},
   "outputs": [
    {
     "name": "stderr",
     "output_type": "stream",
     "text": [
      "qt.qpa.plugin: Could not find the Qt platform plugin \"wayland\" in \"/home/bilal/.local/lib/python3.11/site-packages/cv2/qt/plugins\"\n"
     ]
    }
   ],
   "source": [
    "# loading an image \n",
    "img = cv2.imread(\"assets/box.png\")\n",
    "grayImg = cv2.cvtColor(img, cv2.COLOR_BGR2GRAY)\n",
    "grayImg = np.float32(grayImg)     \n",
    "cv2.imshow(\"original\", grayImg)\n",
    "cv2.waitKey(0)\n",
    "cv2.destroyAllWindows()"
   ]
  },
  {
   "cell_type": "code",
   "execution_count": 4,
   "id": "b2a74446",
   "metadata": {},
   "outputs": [],
   "source": [
    "# Harris Corner Detection : it is an algorithm that is used to detect the corners, it uses Sobel operator in its working like Canny edge detector"
   ]
  },
  {
   "cell_type": "code",
   "execution_count": 5,
   "id": "f9c08196",
   "metadata": {},
   "outputs": [
    {
     "name": "stdout",
     "output_type": "stream",
     "text": [
      "(521, 529)\n"
     ]
    }
   ],
   "source": [
    "corners = cv2.cornerHarris(grayImg, 2, 3, 0.04) #(source, neighborhood size for corner detection, kernel size for sobel, Harris parameter)\n",
    "\n",
    "print(corners.shape) # cornerharris() outputs an image  where each pixel value represents the corner response strength at that location. \n",
    "corners = cv2.dilate(corners, (5,5), 1) # making the corners bigger"
   ]
  },
  {
   "cell_type": "code",
   "execution_count": 6,
   "id": "78bb0353",
   "metadata": {},
   "outputs": [],
   "source": [
    "threshold = 0.01*corners.max()# setting the threshold to 1% of the maximum\n",
    "img[corners>threshold]=[0,0,255]\n",
    "cv2.imshow(\"result\", img)\n",
    "cv2.waitKey(0)\n",
    "cv2.destroyAllWindows()"
   ]
  },
  {
   "cell_type": "code",
   "execution_count": null,
   "id": "588cbb72",
   "metadata": {},
   "outputs": [],
   "source": [
    "# Shi Tomasi corner detection\n",
    "# it is a corner detection method like harris corner detection but is performs more accurately "
   ]
  },
  {
   "cell_type": "code",
   "execution_count": 8,
   "id": "8e67b9a7",
   "metadata": {},
   "outputs": [],
   "source": [
    "img = cv2.imread(\"assets/box.png\")"
   ]
  },
  {
   "cell_type": "code",
   "execution_count": 9,
   "id": "9ba4dfd4",
   "metadata": {},
   "outputs": [],
   "source": [
    "# Outputs all the corner positions\n",
    "corners = cv2.goodFeaturesToTrack(grayImg,75, 0.01, 10) # (source, number of corners, Quality level, minimum distance between the corners)\n",
    "for i in corners:\n",
    "    x, y = i.ravel().astype(int) # flattens the array to extract x and y coordinates\n",
    "    cv2.circle(img,(x,y),3,255,-1) # creating a circle on corner "
   ]
  },
  {
   "cell_type": "code",
   "execution_count": 10,
   "id": "36d6380b",
   "metadata": {},
   "outputs": [],
   "source": [
    "# Displaying the output image\n",
    "cv2.imshow(\"final image\", img)\n",
    "cv2.waitKey(0)\n",
    "cv2.destroyAllWindows()"
   ]
  }
 ],
 "metadata": {
  "kernelspec": {
   "display_name": "Python 3",
   "language": "python",
   "name": "python3"
  },
  "language_info": {
   "codemirror_mode": {
    "name": "ipython",
    "version": 3
   },
   "file_extension": ".py",
   "mimetype": "text/x-python",
   "name": "python",
   "nbconvert_exporter": "python",
   "pygments_lexer": "ipython3",
   "version": "3.11.2"
  }
 },
 "nbformat": 4,
 "nbformat_minor": 5
}
