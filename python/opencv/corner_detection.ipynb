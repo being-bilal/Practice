{
 "cells": [
  {
   "cell_type": "markdown",
   "id": "d8b75ad9",
   "metadata": {},
   "source": [
    "### Corner Detection in OpenCV\n",
    "Corners in an image are considered good features as they are easier to recognise compared\n",
    "to an edge that can be moved along and it would look about the same "
   ]
  },
  {
   "cell_type": "code",
   "execution_count": 21,
   "id": "a700977a",
   "metadata": {},
   "outputs": [],
   "source": [
    "import cv2\n",
    "import numpy as np\n",
    "import matplotlib.pyplot as plt"
   ]
  },
  {
   "cell_type": "code",
   "execution_count": 22,
   "id": "980c61db",
   "metadata": {},
   "outputs": [],
   "source": [
    "# loading an image \n",
    "img = cv2.imread(\"Images/box.png\")\n",
    "grayImg = cv2.cvtColor(img, cv2.COLOR_BGR2GRAY)\n",
    "grayImg = np.float32(grayImg)     \n",
    "cv2.imshow(\"original\", grayImg)\n",
    "cv2.waitKey(0)\n",
    "cv2.destroyAllWindows()"
   ]
  },
  {
   "cell_type": "markdown",
   "id": "62acd4b3",
   "metadata": {},
   "source": [
    "### Harris Corner Detection \n",
    "it is an algorithm that is used to detect the corners, it uses Sobel operator in its working like Canny edge detector"
   ]
  },
  {
   "cell_type": "code",
   "execution_count": 23,
   "id": "f9c08196",
   "metadata": {},
   "outputs": [
    {
     "name": "stdout",
     "output_type": "stream",
     "text": [
      "(521, 529)\n"
     ]
    }
   ],
   "source": [
    "corners = cv2.cornerHarris(grayImg, 2, 3, 0.04) #(source, neighborhood size for corner detection, kernel size for sobel, Harris parameter)\n",
    "\n",
    "print(corners.shape) # cornerHarris() outputs an image  where each pixel value represents the corner response strength at that location. \n",
    "corners = cv2.dilate(corners, (5,5), 1) # making the corners bigger"
   ]
  },
  {
   "cell_type": "code",
   "execution_count": 24,
   "id": "78bb0353",
   "metadata": {},
   "outputs": [],
   "source": [
    "threshold = 0.01*corners.max()# setting the threshold to 1% of the maximum\n",
    "img[corners>threshold]=[0,0,255]\n",
    "cv2.imshow(\"result\", img)\n",
    "cv2.waitKey(0)\n",
    "cv2.destroyAllWindows()"
   ]
  },
  {
   "cell_type": "code",
   "execution_count": 25,
   "id": "588cbb72",
   "metadata": {},
   "outputs": [],
   "source": [
    "# Shi Tomasi corner detection\n",
    "# it is a corner detection method like harris corner detection but is performs more accurately "
   ]
  },
  {
   "cell_type": "code",
   "execution_count": 26,
   "id": "8e67b9a7",
   "metadata": {},
   "outputs": [],
   "source": [
    "img = cv2.imread(\"Images/box.png\")"
   ]
  },
  {
   "cell_type": "code",
   "execution_count": 27,
   "id": "9ba4dfd4",
   "metadata": {},
   "outputs": [],
   "source": [
    "# Outputs all the corner positions\n",
    "corners = cv2.goodFeaturesToTrack(grayImg,75, 0.01, 10) # (source, number of corners, Quality level, minimum distance between the corners)\n",
    "for i in corners:\n",
    "    x, y = i.ravel().astype(int) # flattens the array to extract x and y coordinates\n",
    "    cv2.circle(img,(x,y),3,255,-1) # creating a circle on corner "
   ]
  },
  {
   "cell_type": "code",
   "execution_count": 28,
   "id": "36d6380b",
   "metadata": {},
   "outputs": [],
   "source": [
    "# Displaying the output image\n",
    "cv2.imshow(\"final image\", img)\n",
    "cv2.waitKey(0)\n",
    "cv2.destroyAllWindows()"
   ]
  },
  {
   "cell_type": "markdown",
   "id": "0fb0ce2e",
   "metadata": {},
   "source": [
    "### FAST (Features from Accelerated Segment Test)\n",
    "FAST is a corner detection algorithm used usually in realtime simulation and localisation dues to its effectiveness and speed compared to She-Tomasi or Harris corner detection algorithm as it does use gradient calculation or matrix multiplication.\n",
    "\n",
    "* FAST takes a pixel P in the image having the intensity of Ip and specifies a threshold T.\n",
    "* Then considers a circle around the pixel P having the radius of 3 pixels, with 16 pixels surrounding the candidate pixel P at the circumference of the circle.\n",
    "* A pixel p is classified as a corner if there exists a contiguous (connected) segment of N pixels on the circle that are all brighter than Ip+T or darker than Ip-T.\n",
    "* By default FAST algorithm usees N=12."
   ]
  },
  {
   "cell_type": "code",
   "execution_count": 29,
   "id": "62fa328b",
   "metadata": {},
   "outputs": [],
   "source": [
    "image = cv2.imread(\"Images/img.jpg\")\n",
    "gray = cv2.cvtColor(image, cv2.COLOR_BGR2GRAY)\n",
    "cv2.imshow(\"original\", gray)\n",
    "cv2.waitKey(0)\n",
    "cv2.destroyAllWindows()"
   ]
  },
  {
   "cell_type": "code",
   "execution_count": 30,
   "id": "98b81a78",
   "metadata": {},
   "outputs": [
    {
     "data": {
      "text/plain": [
       "array([[[254, 254, 254],\n",
       "        [254, 254, 254],\n",
       "        [254, 254, 254],\n",
       "        ...,\n",
       "        [224, 224, 224],\n",
       "        [224, 224, 224],\n",
       "        [224, 224, 224]],\n",
       "\n",
       "       [[254, 254, 254],\n",
       "        [254, 254, 254],\n",
       "        [254, 254, 254],\n",
       "        ...,\n",
       "        [224, 224, 224],\n",
       "        [224, 224, 224],\n",
       "        [224, 224, 224]],\n",
       "\n",
       "       [[254, 254, 254],\n",
       "        [254, 254, 254],\n",
       "        [254, 254, 254],\n",
       "        ...,\n",
       "        [224, 224, 224],\n",
       "        [224, 224, 224],\n",
       "        [224, 224, 224]],\n",
       "\n",
       "       ...,\n",
       "\n",
       "       [[254, 254, 254],\n",
       "        [254, 254, 254],\n",
       "        [254, 254, 254],\n",
       "        ...,\n",
       "        [254, 254, 254],\n",
       "        [254, 254, 254],\n",
       "        [254, 254, 254]],\n",
       "\n",
       "       [[254, 254, 254],\n",
       "        [254, 254, 254],\n",
       "        [254, 254, 254],\n",
       "        ...,\n",
       "        [254, 254, 254],\n",
       "        [254, 254, 254],\n",
       "        [254, 254, 254]],\n",
       "\n",
       "       [[254, 254, 254],\n",
       "        [254, 254, 254],\n",
       "        [254, 254, 254],\n",
       "        ...,\n",
       "        [254, 254, 254],\n",
       "        [254, 254, 254],\n",
       "        [254, 254, 254]]], dtype=uint8)"
      ]
     },
     "execution_count": 30,
     "metadata": {},
     "output_type": "execute_result"
    }
   ],
   "source": [
    "fast = cv2.FastFeatureDetector_create() # Creating a FAST model\n",
    "kp = fast.detect(gray, None) # Detecting the Keypoints\n",
    "cv2.drawKeypoints(gray, kp, image) # marking the keypoints"
   ]
  },
  {
   "cell_type": "code",
   "execution_count": 31,
   "id": "1fc2bd87",
   "metadata": {},
   "outputs": [],
   "source": [
    "cv2.imshow(\"result\", image)\n",
    "cv2.waitKey(0)\n",
    "cv2.destroyAllWindows()"
   ]
  },
  {
   "cell_type": "code",
   "execution_count": 32,
   "id": "eacf7136",
   "metadata": {},
   "outputs": [
    {
     "name": "stdout",
     "output_type": "stream",
     "text": [
      "1083\n",
      "10\n",
      "True\n"
     ]
    }
   ],
   "source": [
    "# Printing the Parameters \n",
    "print(len(kp)) # Number of Keypoints identified\n",
    "print(fast.getThreshold()) # Threshold used\n",
    "print(fast.getNonmaxSuppression()) # Is Non-max supression is used or not"
   ]
  },
  {
   "cell_type": "markdown",
   "id": "33f2af54",
   "metadata": {},
   "source": [
    "#### Problem with FAST \n",
    "The basic FAST algorithm is designed for speed. When it identifies corners, it does so by checking if a contiguous segment of pixels on a surrounding circle are significantly brighter or darker than the center pixel. Due to this simple comparison, a true corner in an image (e.g., the sharp intersection of two lines) can often trigger the corner condition for not just one pixel, but also for several of its immediately neighboring pixels. Thus Non-Maximal Suppression (NMS) is used for FAST corners, NMS tackles this redundancy by ensuring that for each \"true\" corner in the image, only the single best (most representative) corner detection is retained, while all its weaker neighbors are suppressed (removed).\n"
   ]
  },
  {
   "cell_type": "code",
   "execution_count": 33,
   "id": "657d2b59",
   "metadata": {},
   "outputs": [],
   "source": [
    "fast.setNonmaxSuppression(0) \n",
    "kp = fast.detect(gray, None) # Detecting the Keypoints\n",
    "cv2.drawKeypoints(gray, kp, image) # marking the keypoints\n",
    "cv2.imshow(\"result\", image)\n",
    "cv2.waitKey(0)\n",
    "cv2.destroyAllWindows()\n"
   ]
  }
 ],
 "metadata": {
  "kernelspec": {
   "display_name": "Python 3",
   "language": "python",
   "name": "python3"
  },
  "language_info": {
   "codemirror_mode": {
    "name": "ipython",
    "version": 3
   },
   "file_extension": ".py",
   "mimetype": "text/x-python",
   "name": "python",
   "nbconvert_exporter": "python",
   "pygments_lexer": "ipython3",
   "version": "3.11.2"
  }
 },
 "nbformat": 4,
 "nbformat_minor": 5
}
