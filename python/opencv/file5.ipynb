{
 "cells": [
  {
   "cell_type": "markdown",
   "id": "4c473d44",
   "metadata": {},
   "source": [
    "### Thresholding Types in OpenCV\n",
    "\n",
    "#### 🔹 Global Thresholding (`cv2.threshold`)\n",
    "\n",
    "- **Binary Thresholding** — `cv2.THRESH_BINARY`  \n",
    "  Sets pixel to `maxVal` if it's greater than the threshold, else to 0.\n",
    "\n",
    "- **Binary Inverted Thresholding** — `cv2.THRESH_BINARY_INV`  \n",
    "  Sets pixel to 0 if it's greater than the threshold, else to `maxVal`.\n",
    "\n",
    "- **Truncate Thresholding** — `cv2.THRESH_TRUNC`  \n",
    "  Sets pixel to the threshold value if it's greater; otherwise, keeps the original value.\n",
    "\n",
    "- **To Zero Thresholding** — `cv2.THRESH_TOZERO`  \n",
    "  Keeps the pixel if it's greater than the threshold; else sets it to 0.\n",
    "\n",
    "- **To Zero Inverted Thresholding** — `cv2.THRESH_TOZERO_INV`  \n",
    "  Sets pixel to 0 if it's greater than the threshold; otherwise, keeps it.\n",
    "\n",
    "---\n",
    "\n",
    "#### 🔹 Adaptive Thresholding (`cv2.adaptiveThreshold`)\n",
    "\n",
    "Used when image lighting is non-uniform. The threshold is calculated for smaller regions.\n",
    "\n",
    "- **Mean Adaptive Thresholding** — `cv2.ADAPTIVE_THRESH_MEAN_C`  \n",
    "  Threshold value is the **mean** of the neighborhood minus a constant \\( C \\).\n",
    "\n",
    "- **Gaussian Adaptive Thresholding** — `cv2.ADAPTIVE_THRESH_GAUSSIAN_C`  \n",
    "  Threshold value is a **weighted sum (Gaussian)** of the neighborhood minus \\( C \\).\n",
    "\n"
   ]
  },
  {
   "cell_type": "code",
   "execution_count": 1,
   "id": "a2f880b0",
   "metadata": {},
   "outputs": [],
   "source": [
    "import cv2 \n",
    "import numpy as np\n",
    "import matplotlib.pyplot as plt"
   ]
  },
  {
   "cell_type": "code",
   "execution_count": 2,
   "id": "74c5f9df",
   "metadata": {},
   "outputs": [
    {
     "name": "stderr",
     "output_type": "stream",
     "text": [
      "qt.qpa.plugin: Could not find the Qt platform plugin \"wayland\" in \"/home/bilal/.local/lib/python3.11/site-packages/cv2/qt/plugins\"\n"
     ]
    }
   ],
   "source": [
    "# Thresholding is a technique to create a binary image from a grayscale image. \n",
    "# Loading an image\n",
    "img = cv2.imread('assets/text.png', cv2.IMREAD_COLOR)\n",
    "img = cv2.cvtColor(img, cv2.COLOR_BGR2GRAY) # image is converted to grayscale before thresholding\n",
    "cv2.imshow('Original Image', img)\n",
    "cv2.waitKey(0) \n",
    "cv2.destroyAllWindows()"
   ]
  },
  {
   "cell_type": "code",
   "execution_count": 3,
   "id": "7fbc8f0b",
   "metadata": {},
   "outputs": [
    {
     "name": "stdout",
     "output_type": "stream",
     "text": [
      "Threshold Value Used :  9.0\n"
     ]
    }
   ],
   "source": [
    "# Binary thresholding \n",
    "reval, threshold = cv2.threshold(img, 9, 255, cv2.THRESH_BINARY)\n",
    "print(\"Threshold Value Used : \", reval) # reval is the value of the threshold used \n",
    "cv2.imshow('Binary Thresholding', threshold)\n",
    "cv2.waitKey(0)\n",
    "cv2.destroyAllWindows()"
   ]
  },
  {
   "cell_type": "code",
   "execution_count": 4,
   "id": "a986b891",
   "metadata": {},
   "outputs": [],
   "source": [
    "# Inverted Binary THresholding \n",
    "reval, threshold = cv2.threshold(img, 8.5, 255, cv2.THRESH_BINARY_INV)\n",
    "cv2.imshow('image', threshold)\n",
    "cv2.waitKey(0)\n",
    "cv2.destroyAllWindows()"
   ]
  },
  {
   "cell_type": "code",
   "execution_count": 15,
   "id": "f629ddaf",
   "metadata": {},
   "outputs": [],
   "source": [
    "# Turncat Thresholding \n",
    "reval, threshold = cv2.threshold(img, 20, 20 , cv2.THRESH_TRUNC)\n",
    "cv2.imshow('image', threshold)\n",
    "cv2.waitKey(0) \n",
    "cv2.destroyAllWindows()"
   ]
  },
  {
   "cell_type": "code",
   "execution_count": 17,
   "id": "1a23a4d0",
   "metadata": {},
   "outputs": [],
   "source": [
    "# ToZero Thresholding\n",
    "reeval, threshold = cv2.threshold(img, 150, 255, cv2.THRESH_TRUNC)\n",
    "cv2.imshow('image', threshold)\n",
    "cv2.waitKey(0) \n",
    "cv2.destroyAllWindows()"
   ]
  },
  {
   "cell_type": "code",
   "execution_count": null,
   "id": "8ba1de3e",
   "metadata": {},
   "outputs": [],
   "source": [
    "# Adaptive Thresholding\n",
    "# Instead of calculating a global threshold the adaptive thresholding calculates the threshold for each pixel based on the local region around that pixel \n",
    "# It is useful for images with varying lighting conditions\n",
    "gaussian = cv2.adaptiveThreshold(img, 255, cv2.ADAPTIVE_THRESH_GAUSSIAN_C, cv2.THRESH_BINARY, 115, 2)\n",
    "#(image, max_value if the pixel value is grater than the threshold, adaptive method, threshold type, block size, constant subtracted from the mean or weighted mean)\n",
    "cv2.imshow('image', gaussian)\n",
    "cv2.waitKey(0) \n",
    "cv2.destroyAllWindows()"
   ]
  },
  {
   "cell_type": "code",
   "execution_count": 13,
   "id": "e3644796",
   "metadata": {},
   "outputs": [],
   "source": [
    "# Mean Adaptive Thresholding \n",
    "mean = cv2.adaptiveThreshold(img, 255, cv2.ADAPTIVE_THRESH_MEAN_C, cv2.THRESH_BINARY, 115, 2)\n",
    "cv2.imshow('image', mean)\n",
    "cv2.waitKey(0) \n",
    "cv2.destroyAllWindows()"
   ]
  },
  {
   "cell_type": "code",
   "execution_count": null,
   "id": "e5fe78b5",
   "metadata": {},
   "outputs": [],
   "source": []
  }
 ],
 "metadata": {
  "kernelspec": {
   "display_name": "Python 3",
   "language": "python",
   "name": "python3"
  },
  "language_info": {
   "codemirror_mode": {
    "name": "ipython",
    "version": 3
   },
   "file_extension": ".py",
   "mimetype": "text/x-python",
   "name": "python",
   "nbconvert_exporter": "python",
   "pygments_lexer": "ipython3",
   "version": "3.11.2"
  }
 },
 "nbformat": 4,
 "nbformat_minor": 5
}
