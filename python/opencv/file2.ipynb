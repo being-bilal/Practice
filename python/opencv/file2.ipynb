{
 "cells": [
  {
   "cell_type": "markdown",
   "id": "7be99091",
   "metadata": {},
   "source": [
    "### Drawing and Writing on Image"
   ]
  },
  {
   "cell_type": "code",
   "execution_count": 1,
   "id": "196688cf",
   "metadata": {},
   "outputs": [],
   "source": [
    "import cv2 \n",
    "import numpy as np \n",
    "import matplotlib.pyplot as plt"
   ]
  },
  {
   "cell_type": "code",
   "execution_count": 2,
   "id": "4c44424b",
   "metadata": {},
   "outputs": [
    {
     "name": "stderr",
     "output_type": "stream",
     "text": [
      "qt.qpa.plugin: Could not find the Qt platform plugin \"wayland\" in \"/home/bilal/.local/lib/python3.11/site-packages/cv2/qt/plugins\"\n"
     ]
    }
   ],
   "source": [
    "# loading image \n",
    "img = cv2.imread(\"assets/photo.jpg\", 1)\n",
    "# drawing a line\n",
    "cv2.line(img, (0,0), (200, 200), (0, 0, 255), 5) # (start_point, end_point, color, thickness)\n",
    "cv2.imshow(\"Line\", img)\n",
    "cv2.waitKey(0)\n",
    "cv2.destroyAllWindows()"
   ]
  },
  {
   "cell_type": "code",
   "execution_count": 3,
   "id": "10cc1e75",
   "metadata": {},
   "outputs": [],
   "source": [
    "# drawing a reactangle\n",
    "cv2.rectangle(img, (300, 100), (500, 450), (255, 255, 255), 3) # (top_left, bottom_right, color, thickness)\n",
    "cv2.imshow(\"Rectangle\", img)\n",
    "cv2.waitKey(0)\n",
    "cv2.destroyAllWindows()"
   ]
  },
  {
   "cell_type": "code",
   "execution_count": 4,
   "id": "0657c762",
   "metadata": {},
   "outputs": [],
   "source": [
    "# drawing a circle \n",
    "cv2.circle(img, (0,0), 150, (0, 255, 0), 1) # (center, radius, color, thickness)\n",
    "h, w = img.shape[:2]\n",
    "cv2.circle(img, (w//2, h//2), 150, (0, 0, 0), -1) # solid circle at center\n",
    "cv2.imshow(\"Circle\", img)\n",
    "cv2.waitKey(0)\n",
    "cv2.destroyAllWindows()"
   ]
  },
  {
   "cell_type": "code",
   "execution_count": 5,
   "id": "d4e2234b",
   "metadata": {},
   "outputs": [],
   "source": [
    "# drawing a polygon\n",
    "points = np.array([[100, 200], [200, 300], [300, 200], [200, 100], [200, 200]])\n",
    "cv2.polylines(img, [points], True, (255, 0, 0), 8) # (image, points, isClosed, color, thickness)\n",
    "cv2.imshow(\"polygon\", img)\n",
    "cv2.waitKey(0)\n",
    "cv2.destroyAllWindows()"
   ]
  },
  {
   "cell_type": "code",
   "execution_count": null,
   "id": "af12784d",
   "metadata": {},
   "outputs": [],
   "source": [
    "# adding text to image \n",
    "font_style = cv2.FONT_HERSHEY_SCRIPT_SIMPLEX\t\n",
    "cv2.putText(img, \"Hello World\", (h//2, w//2), font_style, 2\n",
    "            , (0, 255, 255), 2) # (image, text, position, font, font_scale, color, thickness)\n",
    "cv2.imshow('Text', img)\n",
    "cv2.waitKey(0)\n",
    "cv2.destroyAllWindows()"
   ]
  }
 ],
 "metadata": {
  "kernelspec": {
   "display_name": "Python 3",
   "language": "python",
   "name": "python3"
  },
  "language_info": {
   "codemirror_mode": {
    "name": "ipython",
    "version": 3
   },
   "file_extension": ".py",
   "mimetype": "text/x-python",
   "name": "python",
   "nbconvert_exporter": "python",
   "pygments_lexer": "ipython3",
   "version": "3.11.2"
  }
 },
 "nbformat": 4,
 "nbformat_minor": 5
}
