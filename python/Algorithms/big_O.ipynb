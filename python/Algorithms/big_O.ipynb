{
 "cells": [
  {
   "cell_type": "markdown",
   "id": "efcb71e6",
   "metadata": {},
   "source": [
    "### Big O Notation\n",
    "It is a concept that determines how efficiently an algorithm performs as the input data grows, it is regarded as the worst case scenario in determining the time complexity of the algorithm. It helps predict how an algorithm will behave as the input size becomes very large and helps compare the performance of different algorithm and how their performance scale with the input size. \n",
    "\n",
    "* For a given function with time complexity given as O(n), the algorithm would never take more than n steps to complete (where n is the input size).\n",
    "\n",
    "* Algorithm speed isn’t measured in seconds, but in growth of the number of operations.\n",
    "\n",
    "#### Common Big O Notation (fastest to slowest):\n",
    "* O(1) - Constant time : the time taken by the algorithm remain constant no matter than size of the input.\n",
    "\n",
    "* O(log n) - Logarithmic Time : The time taken increases logarithmically with the input size. This usually happens when the algorithm divides the problem into smaller halves at each step.\n",
    "\n",
    "* O(n) - Linear Time : The time taken increases lineaarly with the iput size such that the number of operations is equal to the input size n.\n",
    "\n",
    "* O(logn * n) - Log Linear time\n",
    "\n",
    "* O(n^2) - Quadratic Time \n",
    "\n",
    "* O(n^c) - Polynomial Time\n",
    "\n",
    "* O(2^n) - Exponential Time : the excecution time of the algorithm doubles with every element of the input n\n",
    "\n",
    "* O(!n) - Factorial Time : These algorithms are almost never practical for any meaningful input size.\n"
   ]
  },
  {
   "cell_type": "markdown",
   "id": "1f6a80a9",
   "metadata": {},
   "source": [
    "### Arrays and Linked Lists\n",
    "\n",
    "#### Arrays \n",
    "Arrays is a collections of elements of the same data type stored in a contigious memory such that the memory of address of each element is one after the other for this reason they have a fixed size so if we wanna extend an element into the array we have to change the location all the elements if the contigious memory is not available or we can reserve the memory in advance for future additions to the array, This inability to easily grow or shrink can lead to wasted space. \n",
    "\n",
    "* Selection : Since each element of the array has a unique index they can be efficiently selected in O(n) time.\n",
    "* Isertion/Deletion : inserting an element from the array require shifting all subsequent elements to make space. To delete, you have to shift all subsequent elements to fill the gap. Thus it takes linear time O(n).\n",
    "\n",
    "#### Linked Lists \n",
    "Linked lists unlike the array doesnt store elements in contigious memory instead the elements are located in random locations in the computer memory such that each element(called node) contains two parts (a) the data, (b) The pointer to the next node. The list is traversed by following these pointers from one node to the next. The first node is called the head, and the last node's pointer typically points to NULL (or None), indicating the end of the list. There are types of Linked lists:\n",
    "(i) Singly Linked List, (ii) Doubly Linked List, (iii) circular Linked List.\n",
    "\n",
    "\n",
    "* Selection : elements of the linked list cant be accessed directly but require that you must start from the head and traverse the list sequentially using the pointers until you reach the desired element, this requires linear time O(n).\n",
    "\n",
    "* Insertion/deletion (at the end) : It takes constant time O(1), You just update the last elements pointer. \n",
    "\n",
    "\n",
    "** NOTE : Lists are better if you want to insert or delete elements into the middle."
   ]
  },
  {
   "cell_type": "code",
   "execution_count": 21,
   "id": "d2a8fcc6",
   "metadata": {},
   "outputs": [
    {
     "name": "stdout",
     "output_type": "stream",
     "text": [
      "140379708961728\n",
      "10869384 10869448\n"
     ]
    }
   ],
   "source": [
    "import array\n",
    "\n",
    "# Accessing the memory address of an item \n",
    "x = [10,20,40]\n",
    "print(id(x)) # By Default the lists in python are not an actual array of values but a dynamic array of pointers\n",
    "\n",
    "array1 = array.array('i', [1,3,5,7,6])\n",
    "print(id(array1[0]), id(array1[1])) # The values of the arrays are stored contiguously in memory "
   ]
  }
 ],
 "metadata": {
  "kernelspec": {
   "display_name": "Python 3",
   "language": "python",
   "name": "python3"
  },
  "language_info": {
   "codemirror_mode": {
    "name": "ipython",
    "version": 3
   },
   "file_extension": ".py",
   "mimetype": "text/x-python",
   "name": "python",
   "nbconvert_exporter": "python",
   "pygments_lexer": "ipython3",
   "version": "3.11.2"
  }
 },
 "nbformat": 4,
 "nbformat_minor": 5
}
